{
 "cells": [
  {
   "cell_type": "code",
   "execution_count": 12,
   "metadata": {
    "ExecuteTime": {
     "end_time": "2020-06-22T18:16:38.911604Z",
     "start_time": "2020-06-22T18:16:38.877360Z"
    }
   },
   "outputs": [],
   "source": [
    "arg=\"Data\"\n",
    "p_chorzy=\"nowe\"\n",
    "p_zgony=\"zgony\"\n",
    "p_wyleczeni=\"wyleczeni\"\n",
    "populationData = [{arg: \"11.03.2020\",p_chorzy: 0,p_zgony: 0,p_wyleczeni: 0,},{arg: \"12.03.2020\",p_chorzy: 0,p_zgony: 0,p_wyleczeni: 0,},{arg: \"13.03.2020\",p_chorzy: 0,p_zgony: 0,p_wyleczeni: 0,},{arg: \"14.03.2020\",p_chorzy: 2,p_zgony: 0,p_wyleczeni: 0,},{arg: \"15.03.2020\",p_chorzy: 0,p_zgony: 0,p_wyleczeni: 0,},{arg: \"16.03.2020\",p_chorzy: 0,p_zgony: 0,p_wyleczeni: 0,},{arg: \"17.03.2020\",p_chorzy: 6,p_zgony: 0,p_wyleczeni: 0,},{arg: \"18.03.2020\",p_chorzy: 1,p_zgony: 0,p_wyleczeni: 0,},{arg: \"19.03.2020\",p_chorzy: 0,p_zgony: 0,p_wyleczeni: 0,},{arg: \"20.03.2020\",p_chorzy: 1,p_zgony: 0,p_wyleczeni: 0,},{arg: \"21.03.2020\",p_chorzy: 1,p_zgony: 0,p_wyleczeni: 0,},{arg: \"22.03.2020\",p_chorzy: 6,p_zgony: 0,p_wyleczeni: 0,},{arg: \"23.03.2020\",p_chorzy: 0,p_zgony: 0,p_wyleczeni: 0,},{arg: \"24.03.2020\",p_chorzy: 5,p_zgony: 0,p_wyleczeni: 0,},{arg: \"25.03.2020\",p_chorzy: 0,p_zgony: 0,p_wyleczeni: 0,},{arg: \"26.03.2020\",p_chorzy: 5,p_zgony: 0,p_wyleczeni: 0,},{arg: \"27.03.2020\",p_chorzy: 5,p_zgony: 0,p_wyleczeni: 0,},{arg: \"28.03.2020\",p_chorzy: 3,p_zgony: 0,p_wyleczeni: 0,},{arg: \"29.03.2020\",p_chorzy: 10,p_zgony: 0,p_wyleczeni: 0,},{arg: \"30.03.2020\",p_chorzy: 3,p_zgony: 0,p_wyleczeni: 0,},{arg: \"31.03.2020\",p_chorzy: 4,p_zgony: 0,p_wyleczeni: 0,},{arg: \"01.04.2020\",p_chorzy: 4,p_zgony: 0,p_wyleczeni: 0,},{arg: \"02.04.2020\",p_chorzy: 12,p_zgony: 0,p_wyleczeni: 0,},{arg: \"03.04.2020\",p_chorzy: 7,p_zgony: 0,p_wyleczeni: 0,},{arg: \"04.04.2020\",p_chorzy: 29,p_zgony: 0,p_wyleczeni: 0,},{arg: \"05.04.2020\",p_chorzy: 13,p_zgony: 0,p_wyleczeni: 0,},{arg: \"06.04.2020\",p_chorzy: 8,p_zgony: 0,p_wyleczeni: 2,},{arg: \"07.04.2020\",p_chorzy: 10,p_zgony: 0,p_wyleczeni: 2,},{arg: \"08.04.2020\",p_chorzy: 8,p_zgony: 1,p_wyleczeni: 1,},{arg: \"09.04.2020\",p_chorzy: 10,p_zgony: 0,p_wyleczeni: 0,},{arg: \"10.04.2020\",p_chorzy: 4,p_zgony: 0,p_wyleczeni: 3,},{arg: \"11.04.2020\",p_chorzy: 6,p_zgony: 0,p_wyleczeni: 1,},{arg: \"12.04.2020\",p_chorzy: 8,p_zgony: 0,p_wyleczeni: 2,},{arg: \"13.04.2020\",p_chorzy: 4,p_zgony: 0,p_wyleczeni: 2,},{arg: \"14.04.2020\",p_chorzy: 0,p_zgony: 0,p_wyleczeni: 3,},{arg: \"15.04.2020\",p_chorzy: 4,p_zgony: 0,p_wyleczeni: 5,},{arg: \"16.04.2020\",p_chorzy: 2,p_zgony: 1,p_wyleczeni: 4,},{arg: \"17.04.2020\",p_chorzy: 4,p_zgony: 0,p_wyleczeni: 3,},{arg: \"18.04.2020\",p_chorzy: 22,p_zgony: 0,p_wyleczeni: 4,},{arg: \"19.04.2020\",p_chorzy: 2,p_zgony: 0,p_wyleczeni: 7,},{arg: \"20.04.2020\",p_chorzy: 6,p_zgony: 0,p_wyleczeni: 8,},{arg: \"21.04.2020\",p_chorzy: 4,p_zgony: 0,p_wyleczeni: 12,},{arg: \"22.04.2020\",p_chorzy: 12,p_zgony: 1,p_wyleczeni: 3,},{arg: \"23.04.2020\",p_chorzy: 12,p_zgony: 0,p_wyleczeni: 9,},{arg: \"24.04.2020\",p_chorzy: 14,p_zgony: 0,p_wyleczeni: 10,},{arg: \"25.04.2020\",p_chorzy: 39,p_zgony: 0,p_wyleczeni: 8,},{arg: \"26.04.2020\",p_chorzy: 50,p_zgony: 0,p_wyleczeni: 3,},{arg: \"27.04.2020\",p_chorzy: 11,p_zgony: 2,p_wyleczeni: 13,},{arg: \"28.04.2020\",p_chorzy: 37,p_zgony: 3,p_wyleczeni: 10,},{arg: \"29.04.2020\",p_chorzy: 30,p_zgony: 2,p_wyleczeni: 7,},{arg: \"30.04.2020\",p_chorzy: 4,p_zgony: 1,p_wyleczeni: 1,},{arg: \"01.05.2020\",p_chorzy: 6,p_zgony: 1,p_wyleczeni: 0,},{arg: \"02.05.2020\",p_chorzy: 6,p_zgony: 2,p_wyleczeni: 14,},{arg: \"03.05.2020\",p_chorzy: 4,p_zgony: 1,p_wyleczeni: 0,},{arg: \"04.05.2020\",p_chorzy: 0,p_zgony: 3,p_wyleczeni: 5,},{arg: \"05.05.2020\",p_chorzy: 7,p_zgony: 1,p_wyleczeni: 4,},{arg: \"06.05.2020\",p_chorzy: 9,p_zgony: 2,p_wyleczeni: 0,},{arg: \"07.05.2020\",p_chorzy: 8,p_zgony: 1,p_wyleczeni: 10,},{arg: \"08.05.2020\",p_chorzy: 9,p_zgony: 1,p_wyleczeni: 5,},{arg: \"09.05.2020\",p_chorzy: 1,p_zgony: 1,p_wyleczeni: 21,},{arg: \"10.05.2020\",p_chorzy: 3,p_zgony: 2,p_wyleczeni: 6,},{arg: \"11.05.2020\",p_chorzy: 4,p_zgony: 1,p_wyleczeni: 14,},{arg: \"12.05.2020\",p_chorzy: 4,p_zgony: 1,p_wyleczeni: 18,},{arg: \"13.05.2020\",p_chorzy: 2,p_zgony: 0,p_wyleczeni: 8,},{arg: \"14.05.2020\",p_chorzy: 1,p_zgony: 0,p_wyleczeni: 29,},{arg: \"15.05.2020\",p_chorzy: 1,p_zgony: 0,p_wyleczeni: 13,},{arg: \"16.05.2020\",p_chorzy: 7,p_zgony: 0,p_wyleczeni: 9,},{arg: \"17.05.2020\",p_chorzy: 2,p_zgony: 0,p_wyleczeni: 6,},{arg: \"18.05.2020\",p_chorzy: 0,p_zgony: 0,p_wyleczeni: 19,},{arg: \"19.05.2020\",p_chorzy: 1,p_zgony: 1,p_wyleczeni: 13,},{arg: \"20.05.2020\",p_chorzy: 5,p_zgony: 0,p_wyleczeni: 18,},{arg: \"21.05.2020\",p_chorzy: 5,p_zgony: 0,p_wyleczeni: 11,},{arg: \"22.05.2020\",p_chorzy: 4,p_zgony: 0,p_wyleczeni: 6,},{arg: \"23.05.2020\",p_chorzy: 10,p_zgony: 1,p_wyleczeni: 5,},{arg: \"24.05.2020\",p_chorzy: 6,p_zgony: 0,p_wyleczeni: 4,},{arg: \"25.05.2020\",p_chorzy: 7,p_zgony: 0,p_wyleczeni: 7,},{arg: \"26.05.2020\",p_chorzy: 2,p_zgony: 2,p_wyleczeni: 7,},{arg: \"27.05.2020\",p_chorzy: 4,p_zgony: 1,p_wyleczeni: 6,},{arg: \"28.05.2020\",p_chorzy: 2,p_zgony: 0,p_wyleczeni: 9,},{arg: \"29.05.2020\",p_chorzy: 4,p_zgony: 1,p_wyleczeni: 2,},{arg: \"30.05.2020\",p_chorzy: 0,p_zgony: 1,p_wyleczeni: 7,},{arg: \"31.05.2020\",p_chorzy: 1,p_zgony: 0,p_wyleczeni: 5,},{arg: \"01.06.2020\",p_chorzy: 5,p_zgony: 0,p_wyleczeni: 3,},{arg: \"02.06.2020\",p_chorzy: 1,p_zgony: 0,p_wyleczeni: 7,},{arg: \"03.06.2020\",p_chorzy: 0,p_zgony: 0,p_wyleczeni: 10,},{arg: \"04.06.2020\",p_chorzy: 1,p_zgony: 0,p_wyleczeni: 3,},{arg: \"05.06.2020\",p_chorzy: 4,p_zgony: 1,p_wyleczeni: 6,},{arg: \"06.06.2020\",p_chorzy: 4,p_zgony: 0,p_wyleczeni: 9,},{arg: \"07.06.2020\",p_chorzy: 1,p_zgony: 0,p_wyleczeni: 2,},{arg: \"08.06.2020\",p_chorzy: 0,p_zgony: 1,p_wyleczeni: 2,},{arg: \"09.06.2020\",p_chorzy: 5,p_zgony: 0,p_wyleczeni: 8,},{arg: \"10.06.2020\",p_chorzy: 5,p_zgony: 0,p_wyleczeni: 4,},{arg: \"11.06.2020\",p_chorzy: 0,p_zgony: 0,p_wyleczeni: 3,},{arg: \"12.06.2020\",p_chorzy: 2,p_zgony: 0,p_wyleczeni: 7,},{arg: \"13.06.2020\",p_chorzy: 6,p_zgony: 0,p_wyleczeni: 3,},{arg: \"14.06.2020\",p_chorzy: 1,p_zgony: 0,p_wyleczeni: 5,},{arg: \"15.06.2020\",p_chorzy: 0,p_zgony: 1,p_wyleczeni: 2,},{arg: \"16.06.2020\",p_chorzy: 2,p_zgony: 0,p_wyleczeni: 6,},{arg: \"17.06.2020\",p_chorzy: 6,p_zgony: 0,p_wyleczeni: 8,},{arg: \"18.06.2020\",p_chorzy: 3,p_zgony: 0,p_wyleczeni: 6,},{arg: \"19.06.2020\",p_chorzy: 2,p_zgony: 0,p_wyleczeni: 4,},{arg: \"20.06.2020\",p_chorzy: 2,p_zgony: 0,p_wyleczeni: 1,},{arg: \"21.06.2020\",p_chorzy: 12,p_zgony: 0,p_wyleczeni: 1,},{arg: \"22.06.2020\",p_chorzy: 2,p_zgony: 0,p_wyleczeni: 0,},]"
   ]
  },
  {
   "cell_type": "code",
   "execution_count": 13,
   "metadata": {
    "ExecuteTime": {
     "end_time": "2020-06-22T18:16:39.620328Z",
     "start_time": "2020-06-22T18:16:39.597133Z"
    }
   },
   "outputs": [
    {
     "data": {
      "text/plain": [
       "[{'Data': '11.03.2020', 'nowe': 0, 'zgony': 0, 'wyleczeni': 0},\n",
       " {'Data': '12.03.2020', 'nowe': 0, 'zgony': 0, 'wyleczeni': 0},\n",
       " {'Data': '13.03.2020', 'nowe': 0, 'zgony': 0, 'wyleczeni': 0},\n",
       " {'Data': '14.03.2020', 'nowe': 2, 'zgony': 0, 'wyleczeni': 0},\n",
       " {'Data': '15.03.2020', 'nowe': 0, 'zgony': 0, 'wyleczeni': 0},\n",
       " {'Data': '16.03.2020', 'nowe': 0, 'zgony': 0, 'wyleczeni': 0},\n",
       " {'Data': '17.03.2020', 'nowe': 6, 'zgony': 0, 'wyleczeni': 0},\n",
       " {'Data': '18.03.2020', 'nowe': 1, 'zgony': 0, 'wyleczeni': 0},\n",
       " {'Data': '19.03.2020', 'nowe': 0, 'zgony': 0, 'wyleczeni': 0},\n",
       " {'Data': '20.03.2020', 'nowe': 1, 'zgony': 0, 'wyleczeni': 0},\n",
       " {'Data': '21.03.2020', 'nowe': 1, 'zgony': 0, 'wyleczeni': 0},\n",
       " {'Data': '22.03.2020', 'nowe': 6, 'zgony': 0, 'wyleczeni': 0},\n",
       " {'Data': '23.03.2020', 'nowe': 0, 'zgony': 0, 'wyleczeni': 0},\n",
       " {'Data': '24.03.2020', 'nowe': 5, 'zgony': 0, 'wyleczeni': 0},\n",
       " {'Data': '25.03.2020', 'nowe': 0, 'zgony': 0, 'wyleczeni': 0},\n",
       " {'Data': '26.03.2020', 'nowe': 5, 'zgony': 0, 'wyleczeni': 0},\n",
       " {'Data': '27.03.2020', 'nowe': 5, 'zgony': 0, 'wyleczeni': 0},\n",
       " {'Data': '28.03.2020', 'nowe': 3, 'zgony': 0, 'wyleczeni': 0},\n",
       " {'Data': '29.03.2020', 'nowe': 10, 'zgony': 0, 'wyleczeni': 0},\n",
       " {'Data': '30.03.2020', 'nowe': 3, 'zgony': 0, 'wyleczeni': 0},\n",
       " {'Data': '31.03.2020', 'nowe': 4, 'zgony': 0, 'wyleczeni': 0},\n",
       " {'Data': '01.04.2020', 'nowe': 4, 'zgony': 0, 'wyleczeni': 0},\n",
       " {'Data': '02.04.2020', 'nowe': 12, 'zgony': 0, 'wyleczeni': 0},\n",
       " {'Data': '03.04.2020', 'nowe': 7, 'zgony': 0, 'wyleczeni': 0},\n",
       " {'Data': '04.04.2020', 'nowe': 29, 'zgony': 0, 'wyleczeni': 0},\n",
       " {'Data': '05.04.2020', 'nowe': 13, 'zgony': 0, 'wyleczeni': 0},\n",
       " {'Data': '06.04.2020', 'nowe': 8, 'zgony': 0, 'wyleczeni': 2},\n",
       " {'Data': '07.04.2020', 'nowe': 10, 'zgony': 0, 'wyleczeni': 2},\n",
       " {'Data': '08.04.2020', 'nowe': 8, 'zgony': 1, 'wyleczeni': 1},\n",
       " {'Data': '09.04.2020', 'nowe': 10, 'zgony': 0, 'wyleczeni': 0},\n",
       " {'Data': '10.04.2020', 'nowe': 4, 'zgony': 0, 'wyleczeni': 3},\n",
       " {'Data': '11.04.2020', 'nowe': 6, 'zgony': 0, 'wyleczeni': 1},\n",
       " {'Data': '12.04.2020', 'nowe': 8, 'zgony': 0, 'wyleczeni': 2},\n",
       " {'Data': '13.04.2020', 'nowe': 4, 'zgony': 0, 'wyleczeni': 2},\n",
       " {'Data': '14.04.2020', 'nowe': 0, 'zgony': 0, 'wyleczeni': 3},\n",
       " {'Data': '15.04.2020', 'nowe': 4, 'zgony': 0, 'wyleczeni': 5},\n",
       " {'Data': '16.04.2020', 'nowe': 2, 'zgony': 1, 'wyleczeni': 4},\n",
       " {'Data': '17.04.2020', 'nowe': 4, 'zgony': 0, 'wyleczeni': 3},\n",
       " {'Data': '18.04.2020', 'nowe': 22, 'zgony': 0, 'wyleczeni': 4},\n",
       " {'Data': '19.04.2020', 'nowe': 2, 'zgony': 0, 'wyleczeni': 7},\n",
       " {'Data': '20.04.2020', 'nowe': 6, 'zgony': 0, 'wyleczeni': 8},\n",
       " {'Data': '21.04.2020', 'nowe': 4, 'zgony': 0, 'wyleczeni': 12},\n",
       " {'Data': '22.04.2020', 'nowe': 12, 'zgony': 1, 'wyleczeni': 3},\n",
       " {'Data': '23.04.2020', 'nowe': 12, 'zgony': 0, 'wyleczeni': 9},\n",
       " {'Data': '24.04.2020', 'nowe': 14, 'zgony': 0, 'wyleczeni': 10},\n",
       " {'Data': '25.04.2020', 'nowe': 39, 'zgony': 0, 'wyleczeni': 8},\n",
       " {'Data': '26.04.2020', 'nowe': 50, 'zgony': 0, 'wyleczeni': 3},\n",
       " {'Data': '27.04.2020', 'nowe': 11, 'zgony': 2, 'wyleczeni': 13},\n",
       " {'Data': '28.04.2020', 'nowe': 37, 'zgony': 3, 'wyleczeni': 10},\n",
       " {'Data': '29.04.2020', 'nowe': 30, 'zgony': 2, 'wyleczeni': 7},\n",
       " {'Data': '30.04.2020', 'nowe': 4, 'zgony': 1, 'wyleczeni': 1},\n",
       " {'Data': '01.05.2020', 'nowe': 6, 'zgony': 1, 'wyleczeni': 0},\n",
       " {'Data': '02.05.2020', 'nowe': 6, 'zgony': 2, 'wyleczeni': 14},\n",
       " {'Data': '03.05.2020', 'nowe': 4, 'zgony': 1, 'wyleczeni': 0},\n",
       " {'Data': '04.05.2020', 'nowe': 0, 'zgony': 3, 'wyleczeni': 5},\n",
       " {'Data': '05.05.2020', 'nowe': 7, 'zgony': 1, 'wyleczeni': 4},\n",
       " {'Data': '06.05.2020', 'nowe': 9, 'zgony': 2, 'wyleczeni': 0},\n",
       " {'Data': '07.05.2020', 'nowe': 8, 'zgony': 1, 'wyleczeni': 10},\n",
       " {'Data': '08.05.2020', 'nowe': 9, 'zgony': 1, 'wyleczeni': 5},\n",
       " {'Data': '09.05.2020', 'nowe': 1, 'zgony': 1, 'wyleczeni': 21},\n",
       " {'Data': '10.05.2020', 'nowe': 3, 'zgony': 2, 'wyleczeni': 6},\n",
       " {'Data': '11.05.2020', 'nowe': 4, 'zgony': 1, 'wyleczeni': 14},\n",
       " {'Data': '12.05.2020', 'nowe': 4, 'zgony': 1, 'wyleczeni': 18},\n",
       " {'Data': '13.05.2020', 'nowe': 2, 'zgony': 0, 'wyleczeni': 8},\n",
       " {'Data': '14.05.2020', 'nowe': 1, 'zgony': 0, 'wyleczeni': 29},\n",
       " {'Data': '15.05.2020', 'nowe': 1, 'zgony': 0, 'wyleczeni': 13},\n",
       " {'Data': '16.05.2020', 'nowe': 7, 'zgony': 0, 'wyleczeni': 9},\n",
       " {'Data': '17.05.2020', 'nowe': 2, 'zgony': 0, 'wyleczeni': 6},\n",
       " {'Data': '18.05.2020', 'nowe': 0, 'zgony': 0, 'wyleczeni': 19},\n",
       " {'Data': '19.05.2020', 'nowe': 1, 'zgony': 1, 'wyleczeni': 13},\n",
       " {'Data': '20.05.2020', 'nowe': 5, 'zgony': 0, 'wyleczeni': 18},\n",
       " {'Data': '21.05.2020', 'nowe': 5, 'zgony': 0, 'wyleczeni': 11},\n",
       " {'Data': '22.05.2020', 'nowe': 4, 'zgony': 0, 'wyleczeni': 6},\n",
       " {'Data': '23.05.2020', 'nowe': 10, 'zgony': 1, 'wyleczeni': 5},\n",
       " {'Data': '24.05.2020', 'nowe': 6, 'zgony': 0, 'wyleczeni': 4},\n",
       " {'Data': '25.05.2020', 'nowe': 7, 'zgony': 0, 'wyleczeni': 7},\n",
       " {'Data': '26.05.2020', 'nowe': 2, 'zgony': 2, 'wyleczeni': 7},\n",
       " {'Data': '27.05.2020', 'nowe': 4, 'zgony': 1, 'wyleczeni': 6},\n",
       " {'Data': '28.05.2020', 'nowe': 2, 'zgony': 0, 'wyleczeni': 9},\n",
       " {'Data': '29.05.2020', 'nowe': 4, 'zgony': 1, 'wyleczeni': 2},\n",
       " {'Data': '30.05.2020', 'nowe': 0, 'zgony': 1, 'wyleczeni': 7},\n",
       " {'Data': '31.05.2020', 'nowe': 1, 'zgony': 0, 'wyleczeni': 5},\n",
       " {'Data': '01.06.2020', 'nowe': 5, 'zgony': 0, 'wyleczeni': 3},\n",
       " {'Data': '02.06.2020', 'nowe': 1, 'zgony': 0, 'wyleczeni': 7},\n",
       " {'Data': '03.06.2020', 'nowe': 0, 'zgony': 0, 'wyleczeni': 10},\n",
       " {'Data': '04.06.2020', 'nowe': 1, 'zgony': 0, 'wyleczeni': 3},\n",
       " {'Data': '05.06.2020', 'nowe': 4, 'zgony': 1, 'wyleczeni': 6},\n",
       " {'Data': '06.06.2020', 'nowe': 4, 'zgony': 0, 'wyleczeni': 9},\n",
       " {'Data': '07.06.2020', 'nowe': 1, 'zgony': 0, 'wyleczeni': 2},\n",
       " {'Data': '08.06.2020', 'nowe': 0, 'zgony': 1, 'wyleczeni': 2},\n",
       " {'Data': '09.06.2020', 'nowe': 5, 'zgony': 0, 'wyleczeni': 8},\n",
       " {'Data': '10.06.2020', 'nowe': 5, 'zgony': 0, 'wyleczeni': 4},\n",
       " {'Data': '11.06.2020', 'nowe': 0, 'zgony': 0, 'wyleczeni': 3},\n",
       " {'Data': '12.06.2020', 'nowe': 2, 'zgony': 0, 'wyleczeni': 7},\n",
       " {'Data': '13.06.2020', 'nowe': 6, 'zgony': 0, 'wyleczeni': 3},\n",
       " {'Data': '14.06.2020', 'nowe': 1, 'zgony': 0, 'wyleczeni': 5},\n",
       " {'Data': '15.06.2020', 'nowe': 0, 'zgony': 1, 'wyleczeni': 2},\n",
       " {'Data': '16.06.2020', 'nowe': 2, 'zgony': 0, 'wyleczeni': 6},\n",
       " {'Data': '17.06.2020', 'nowe': 6, 'zgony': 0, 'wyleczeni': 8},\n",
       " {'Data': '18.06.2020', 'nowe': 3, 'zgony': 0, 'wyleczeni': 6},\n",
       " {'Data': '19.06.2020', 'nowe': 2, 'zgony': 0, 'wyleczeni': 4},\n",
       " {'Data': '20.06.2020', 'nowe': 2, 'zgony': 0, 'wyleczeni': 1},\n",
       " {'Data': '21.06.2020', 'nowe': 12, 'zgony': 0, 'wyleczeni': 1},\n",
       " {'Data': '22.06.2020', 'nowe': 2, 'zgony': 0, 'wyleczeni': 0}]"
      ]
     },
     "execution_count": 13,
     "metadata": {},
     "output_type": "execute_result"
    }
   ],
   "source": [
    "populationData"
   ]
  }
 ],
 "metadata": {
  "kernelspec": {
   "display_name": "Python 3",
   "language": "python",
   "name": "python3"
  },
  "language_info": {
   "codemirror_mode": {
    "name": "ipython",
    "version": 3
   },
   "file_extension": ".py",
   "mimetype": "text/x-python",
   "name": "python",
   "nbconvert_exporter": "python",
   "pygments_lexer": "ipython3",
   "version": "3.6.10"
  },
  "varInspector": {
   "cols": {
    "lenName": 16,
    "lenType": 16,
    "lenVar": 40
   },
   "kernels_config": {
    "python": {
     "delete_cmd_postfix": "",
     "delete_cmd_prefix": "del ",
     "library": "var_list.py",
     "varRefreshCmd": "print(var_dic_list())"
    },
    "r": {
     "delete_cmd_postfix": ") ",
     "delete_cmd_prefix": "rm(",
     "library": "var_list.r",
     "varRefreshCmd": "cat(var_dic_list()) "
    }
   },
   "types_to_exclude": [
    "module",
    "function",
    "builtin_function_or_method",
    "instance",
    "_Feature"
   ],
   "window_display": false
  }
 },
 "nbformat": 4,
 "nbformat_minor": 4
}
