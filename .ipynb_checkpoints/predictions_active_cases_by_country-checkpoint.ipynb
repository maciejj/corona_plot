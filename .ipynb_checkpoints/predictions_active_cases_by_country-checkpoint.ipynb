{
 "cells": [
  {
   "cell_type": "code",
   "execution_count": 1,
   "metadata": {
    "ExecuteTime": {
     "end_time": "2020-03-12T16:18:42.363743Z",
     "start_time": "2020-03-12T16:18:40.155236Z"
    }
   },
   "outputs": [],
   "source": [
    "import requests\n",
    "import pandas as pd\n",
    "import numpy as np\n",
    "import matplotlib.pyplot as plt\n",
    "import seaborn as sns\n",
    "from matplotlib.dates import DateFormatter\n",
    "import datetime\n",
    "import itertools\n",
    "import matplotlib.dates as mdates\n",
    "from scipy.optimize import curve_fit\n"
   ]
  },
  {
   "cell_type": "markdown",
   "metadata": {
    "ExecuteTime": {
     "end_time": "2020-03-12T10:00:34.512992Z",
     "start_time": "2020-03-12T10:00:34.510330Z"
    }
   },
   "source": [
    "#### Figure aesthetics"
   ]
  },
  {
   "cell_type": "code",
   "execution_count": 2,
   "metadata": {
    "ExecuteTime": {
     "end_time": "2020-03-12T16:18:42.370049Z",
     "start_time": "2020-03-12T16:18:42.365692Z"
    }
   },
   "outputs": [],
   "source": [
    "#print(plt.style.available)\n",
    "plt.style.use('seaborn-poster')\n",
    "plt.style.use('seaborn-whitegrid')"
   ]
  },
  {
   "cell_type": "markdown",
   "metadata": {
    "ExecuteTime": {
     "end_time": "2020-03-12T10:00:34.512992Z",
     "start_time": "2020-03-12T10:00:34.510330Z"
    }
   },
   "source": [
    "#### Downlad data"
   ]
  },
  {
   "cell_type": "code",
   "execution_count": 3,
   "metadata": {
    "ExecuteTime": {
     "end_time": "2020-03-12T16:18:42.378521Z",
     "start_time": "2020-03-12T16:18:42.373439Z"
    }
   },
   "outputs": [],
   "source": [
    "def get_data():\n",
    "    ##Get data from the source that is used to generate map (based on WHO official data):\n",
    "    ##https://gisanddata.maps.arcgis.com/apps/opsdashboard/index.html?fbclid=IwAR0oKIKJlc-zeNZGFBVEN0-O-58daoCDaKicXwC10cjFWgCZqTPgavseTfI#/bda7594740fd40299423467b48e9ecf6\n",
    "    url_confirmed = \"https://raw.github.com/CSSEGISandData/COVID-19/master/csse_covid_19_data/csse_covid_19_time_series/time_series_19-covid-Confirmed.csv\"\n",
    "    url_deaths = \"https://raw.github.com/CSSEGISandData/COVID-19/master/csse_covid_19_data/csse_covid_19_time_series/time_series_19-covid-Deaths.csv\"\n",
    "    url_recovered = \"https://raw.github.com/CSSEGISandData/COVID-19/master/csse_covid_19_data/csse_covid_19_time_series/time_series_19-covid-Recovered.csv\"\n",
    "    \n",
    "    for url, data_type in zip([url_confirmed, url_deaths, url_recovered], [\"confirmed\", \"deaths\", \"recovered\"]):\n",
    "    \n",
    "        r = requests.get(url)\n",
    "        filename=data_type+\".csv\"\n",
    "        f = open(filename,'wb')\n",
    "        f.write(r.content)"
   ]
  },
  {
   "cell_type": "code",
   "execution_count": 4,
   "metadata": {
    "ExecuteTime": {
     "end_time": "2020-03-12T16:18:43.543708Z",
     "start_time": "2020-03-12T16:18:42.382685Z"
    }
   },
   "outputs": [],
   "source": [
    "get_data()"
   ]
  },
  {
   "cell_type": "markdown",
   "metadata": {
    "ExecuteTime": {
     "end_time": "2020-03-12T10:00:34.512992Z",
     "start_time": "2020-03-12T10:00:34.510330Z"
    }
   },
   "source": [
    "#### Prepare dataset"
   ]
  },
  {
   "cell_type": "code",
   "execution_count": 5,
   "metadata": {
    "ExecuteTime": {
     "end_time": "2020-03-12T16:18:43.598771Z",
     "start_time": "2020-03-12T16:18:43.545625Z"
    }
   },
   "outputs": [],
   "source": [
    "## prepare dataset\n",
    "confirmed = pd.read_csv(\"confirmed.csv\")\n",
    "deaths = pd.read_csv(\"deaths.csv\")\n",
    "recovered = pd.read_csv(\"recovered.csv\")\n",
    "\n",
    "def reshape_single_dataset(data):\n",
    "    data=data.drop(columns=[\"Province/State\", \"Lat\", \"Long\"])\n",
    "    ## aggregate data for each country\n",
    "    data=data.groupby(\"Country/Region\").sum().reset_index()\n",
    "    ## reshape data\n",
    "    data.reset_index(drop=True, inplace=True)\n",
    "    data=data.set_index(\"Country/Region\")\n",
    "    #data=data.transpose().reset_index().rename(columns={'index':'Date'})\n",
    "    #data['Date'] = pd.to_datetime(data['Date'])\n",
    "    \n",
    "    return data\n",
    "\n",
    "confirmed = reshape_single_dataset(confirmed)\n",
    "deaths = reshape_single_dataset(deaths)\n",
    "recovered = reshape_single_dataset(recovered)"
   ]
  },
  {
   "cell_type": "code",
   "execution_count": 6,
   "metadata": {
    "ExecuteTime": {
     "end_time": "2020-03-12T16:18:43.620707Z",
     "start_time": "2020-03-12T16:18:43.600491Z"
    }
   },
   "outputs": [],
   "source": [
    "inactive=deaths.add(recovered)\n",
    "data=confirmed.subtract(inactive)\n",
    "data=data.transpose().reset_index().rename(columns={'index':'Date'})\n",
    "data['Date'] = pd.to_datetime(data['Date'])"
   ]
  },
  {
   "cell_type": "markdown",
   "metadata": {
    "ExecuteTime": {
     "end_time": "2020-03-12T10:00:34.512992Z",
     "start_time": "2020-03-12T10:00:34.510330Z"
    }
   },
   "source": [
    "#### List of countries in dataset"
   ]
  },
  {
   "cell_type": "code",
   "execution_count": 7,
   "metadata": {
    "ExecuteTime": {
     "end_time": "2020-03-12T16:18:43.641518Z",
     "start_time": "2020-03-12T16:18:43.623115Z"
    }
   },
   "outputs": [
    {
     "name": "stdout",
     "output_type": "stream",
     "text": [
      "Date\n",
      "Afghanistan\n",
      "Albania\n",
      "Algeria\n",
      "Andorra\n",
      "Argentina\n",
      "Armenia\n",
      "Australia\n",
      "Austria\n",
      "Azerbaijan\n",
      "Bahrain\n",
      "Bangladesh\n",
      "Belarus\n",
      "Belgium\n",
      "Bhutan\n",
      "Bolivia\n",
      "Bosnia and Herzegovina\n",
      "Brazil\n",
      "Brunei\n",
      "Bulgaria\n",
      "Burkina Faso\n",
      "Cambodia\n",
      "Cameroon\n",
      "Canada\n",
      "Chile\n",
      "China\n",
      "Colombia\n",
      "Congo (Kinshasa)\n",
      "Costa Rica\n",
      "Cote d'Ivoire\n",
      "Croatia\n",
      "Cruise Ship\n",
      "Cyprus\n",
      "Czechia\n",
      "Denmark\n",
      "Dominican Republic\n",
      "Ecuador\n",
      "Egypt\n",
      "Estonia\n",
      "Finland\n",
      "France\n",
      "French Guiana\n",
      "Georgia\n",
      "Germany\n",
      "Greece\n",
      "Holy See\n",
      "Honduras\n",
      "Hungary\n",
      "Iceland\n",
      "India\n",
      "Indonesia\n",
      "Iran\n",
      "Iraq\n",
      "Ireland\n",
      "Israel\n",
      "Italy\n",
      "Jamaica\n",
      "Japan\n",
      "Jordan\n",
      "Korea, South\n",
      "Kuwait\n",
      "Latvia\n",
      "Lebanon\n",
      "Liechtenstein\n",
      "Lithuania\n",
      "Luxembourg\n",
      "Malaysia\n",
      "Maldives\n",
      "Malta\n",
      "Martinique\n",
      "Mexico\n",
      "Moldova\n",
      "Monaco\n",
      "Mongolia\n",
      "Morocco\n",
      "Nepal\n",
      "Netherlands\n",
      "New Zealand\n",
      "Nigeria\n",
      "North Macedonia\n",
      "Norway\n",
      "Oman\n",
      "Pakistan\n",
      "Panama\n",
      "Paraguay\n",
      "Peru\n",
      "Philippines\n",
      "Poland\n",
      "Portugal\n",
      "Qatar\n",
      "Reunion\n",
      "Romania\n",
      "Russia\n",
      "San Marino\n",
      "Saudi Arabia\n",
      "Senegal\n",
      "Serbia\n",
      "Singapore\n",
      "Slovakia\n",
      "Slovenia\n",
      "South Africa\n",
      "Spain\n",
      "Sri Lanka\n",
      "Sweden\n",
      "Switzerland\n",
      "Taiwan*\n",
      "Thailand\n",
      "Togo\n",
      "Tunisia\n",
      "Turkey\n",
      "US\n",
      "Ukraine\n",
      "United Arab Emirates\n",
      "United Kingdom\n",
      "Vietnam\n"
     ]
    }
   ],
   "source": [
    "for el in data.columns:\n",
    "    print(el)"
   ]
  },
  {
   "cell_type": "code",
   "execution_count": 8,
   "metadata": {
    "ExecuteTime": {
     "end_time": "2020-03-12T16:18:43.656911Z",
     "start_time": "2020-03-12T16:18:43.650745Z"
    }
   },
   "outputs": [],
   "source": [
    "def exponent(x, a, b, c):\n",
    "    return a * np.exp(b * (x-c))\n",
    "#    return a * np.exp(b * (x))"
   ]
  },
  {
   "cell_type": "markdown",
   "metadata": {
    "ExecuteTime": {
     "end_time": "2020-03-12T10:00:34.512992Z",
     "start_time": "2020-03-12T10:00:34.510330Z"
    }
   },
   "source": [
    "#### Choose countries to plot (separate by \";\" )"
   ]
  },
  {
   "cell_type": "code",
   "execution_count": 9,
   "metadata": {
    "ExecuteTime": {
     "end_time": "2020-03-12T16:18:43.664483Z",
     "start_time": "2020-03-12T16:18:43.660933Z"
    }
   },
   "outputs": [],
   "source": [
    "#countries_to_plot=\"Germany;France;Poland;Italy;Korea, South;China;United Kingdom\".split(\";\")\n",
    "countries_to_plot=\"Italy;Germany;Poland;Spain;Greece;United Kingdom\".split(\";\")"
   ]
  },
  {
   "cell_type": "markdown",
   "metadata": {
    "ExecuteTime": {
     "end_time": "2020-03-12T10:00:34.512992Z",
     "start_time": "2020-03-12T10:00:34.510330Z"
    }
   },
   "source": [
    "#### Make plot"
   ]
  },
  {
   "cell_type": "code",
   "execution_count": 32,
   "metadata": {
    "ExecuteTime": {
     "end_time": "2020-03-12T17:30:42.173895Z",
     "start_time": "2020-03-12T17:30:41.856829Z"
    },
    "scrolled": false
   },
   "outputs": [
    {
     "name": "stdout",
     "output_type": "stream",
     "text": [
      "[ 0.  1.  2.  3.  4.  5.  6.  7.  8.  9. 10. 11. 12. 13. 14. 15. 16. 17.\n",
      " 18. 19. 20. 21. 22. 23. 24. 25. 26. 27. 28. 29. 30. 31. 32. 33. 34. 35.\n",
      " 36. 37. 38. 39. 40. 41. 42. 43. 44. 45. 46. 47. 48. 49.]\n",
      "[1.35111867 0.20085173 4.17008184]\n",
      "[0.03119019 0.24988734 4.88558366]\n",
      "[4.41368444e-03 3.99399886e-01 2.67469096e+01]\n",
      "[9.11088778e-05 3.51450683e-01 7.66192001e-01]\n",
      "[6.00240783e-03 2.29401070e-01 6.23324001e+00]\n",
      "[0.01531725 0.24065336 6.19005207]\n"
     ]
    },
    {
     "data": {
      "image/png": "[encoded data removed]",
      "text/plain": [
       "<Figure size 1152x648 with 1 Axes>"
      ]
     },
     "metadata": {},
     "output_type": "display_data"
    }
   ],
   "source": [
    "##extract data for each country, divide by population and multiply by the value of per_num\n",
    "dates=data[\"Date\"].values\n",
    "dates_num = mdates.date2num(dates)\n",
    "dates_start = np.min(dates_num)\n",
    "dates_num = dates_num - dates_start\n",
    "\n",
    "days_to_extrapolate=14\n",
    "dates_num_extrapolate = np.arange(0,len(dates_num)+days_to_extrapolate,1)\n",
    "\n",
    "print(dates_num)\n",
    "countries=[]\n",
    "fits=[]\n",
    "\n",
    "\n",
    "per_num=100000\n",
    "for country in countries_to_plot:\n",
    "    countries.append((data[country].values))\n",
    "    #fit\n",
    "    popt, pcov = curve_fit(exponent, dates_num, (data[country].values), )\n",
    "    fits.append(exponent(dates_num_extrapolate, *popt))\n",
    "    print(popt)\n",
    "\n",
    "## Create figure and plot space\n",
    "fig, ax = plt.subplots(figsize=(16, 9))\n",
    "marker = itertools.cycle(('o', 'v', '^', '<', '>', 's', 'p', 'P')) \n",
    "color = itertools.cycle(('r', 'g', 'b', 'y','c','m','k'))\n",
    "## Add x-axis and y-axis\n",
    "for country, fit, country_name in zip(countries, fits, countries_to_plot):\n",
    "    col=next(color)\n",
    "    ax.plot(dates, country, marker=next(marker), linestyle='', label=country_name, color=col)\n",
    "    ax.plot(mdates.num2date(dates_num_extrapolate+dates_start), fit, color=col)\n",
    "    \n",
    "## Set title and labels for axes\n",
    "ax.set(xlabel=\"Date\",\n",
    "       ylabel=\"Cases\",\n",
    "       title=\"Daily active cases\")\n",
    "## Define the date format\n",
    "date_form = DateFormatter(\"%m-%d\")\n",
    "ax.xaxis.set_major_formatter(date_form)\n",
    "\n",
    "## axes limits\n",
    "#ax.set_xlim([datetime.date(2020, 2, 10), datetime.date.today() + datetime.timedelta(days=days_to_extrapolate)])# datetime.date(2020, 3, 15)])\n",
    "ax.set_ylim([0,1000])\n",
    "ax.legend()\n",
    "plt.show()"
   ]
  }
 ],
 "metadata": {
  "kernelspec": {
   "display_name": "Python 3",
   "language": "python",
   "name": "python3"
  },
  "language_info": {
   "codemirror_mode": {
    "name": "ipython",
    "version": 3
   },
   "file_extension": ".py",
   "mimetype": "text/x-python",
   "name": "python",
   "nbconvert_exporter": "python",
   "pygments_lexer": "ipython3",
   "version": "3.6.10"
  },
  "varInspector": {
   "cols": {
    "lenName": 16,
    "lenType": 16,
    "lenVar": 40
   },
   "kernels_config": {
    "python": {
     "delete_cmd_postfix": "",
     "delete_cmd_prefix": "del ",
     "library": "var_list.py",
     "varRefreshCmd": "print(var_dic_list())"
    },
    "r": {
     "delete_cmd_postfix": ") ",
     "delete_cmd_prefix": "rm(",
     "library": "var_list.r",
     "varRefreshCmd": "cat(var_dic_list()) "
    }
   },
   "types_to_exclude": [
    "module",
    "function",
    "builtin_function_or_method",
    "instance",
    "_Feature"
   ],
   "window_display": false
  }
 },
 "nbformat": 4,
 "nbformat_minor": 4
}
