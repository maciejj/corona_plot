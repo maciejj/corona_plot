{
 "cells": [
  {
   "cell_type": "code",
   "execution_count": null,
   "metadata": {},
   "outputs": [],
   "source": []
  },
  {
   "cell_type": "code",
   "execution_count": 2,
   "metadata": {
    "ExecuteTime": {
     "end_time": "2020-05-01T15:44:47.617874Z",
     "start_time": "2020-05-01T15:44:47.615096Z"
    }
   },
   "outputs": [],
   "source": [
    "x= \"4 mar, 5 mar, 6 mar, 7 mar, 8 mar, 9 mar, 10 mar, 11 mar, 12 mar, 13 mar, 14 mar, 15 mar, 16 mar, 17 mar, 18 mar, 19 mar, 20 mar, 21 mar, 22 mar, 23 mar, 24 mar, 25 mar, 26 mar, 27 mar, 28 mar, 29 mar, 30 mar, 31 mar, 1 kwi, 2 kwi, 3 kwi, 4 kwi, 5 kwi, 6 kwi, 7 kwi, 8 kwi, 9 kwi, 10 kwi, 11 kwi, 12 kwi, 13 kwi, 14 kwi, 15 kwi, 16 kwi, 17 kwi, 18 kwi, 19 kwi, 20 kwi, 21 kwi, 22 kwi, 23 kwi, 24 kwi, 25 kwi, 26 kwi, 27 kwi, 28 kwi, 29 kwi, 30 kwi, 1 maj\"\n",
    "y1=\"1, 0, 4, 1, 5, 6, 5, 9, 20, 17, 36, 21, 52, 61, 49, 68, 70, 111, 98, 115, 152, 150, 170, 168, 249, 224, 193, 256, 243, 392, 437, 244, 475, 311, 435, 357, 370, 380, 401, 318, 260, 268, 380, 336, 461, 363, 545, 306, 263, 313, 342, 381, 381, 344, 285, 316, 422, 237, 228\"\n",
    "\n"
   ]
  }
 ],
 "metadata": {
  "kernelspec": {
   "display_name": "Python 3",
   "language": "python",
   "name": "python3"
  },
  "language_info": {
   "codemirror_mode": {
    "name": "ipython",
    "version": 3
   },
   "file_extension": ".py",
   "mimetype": "text/x-python",
   "name": "python",
   "nbconvert_exporter": "python",
   "pygments_lexer": "ipython3",
   "version": "3.6.10"
  },
  "varInspector": {
   "cols": {
    "lenName": 16,
    "lenType": 16,
    "lenVar": 40
   },
   "kernels_config": {
    "python": {
     "delete_cmd_postfix": "",
     "delete_cmd_prefix": "del ",
     "library": "var_list.py",
     "varRefreshCmd": "print(var_dic_list())"
    },
    "r": {
     "delete_cmd_postfix": ") ",
     "delete_cmd_prefix": "rm(",
     "library": "var_list.r",
     "varRefreshCmd": "cat(var_dic_list()) "
    }
   },
   "types_to_exclude": [
    "module",
    "function",
    "builtin_function_or_method",
    "instance",
    "_Feature"
   ],
   "window_display": false
  }
 },
 "nbformat": 4,
 "nbformat_minor": 4
}
