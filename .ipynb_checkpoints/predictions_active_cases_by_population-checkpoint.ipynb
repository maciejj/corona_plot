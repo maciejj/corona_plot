{
 "cells": [
  {
   "cell_type": "code",
   "execution_count": 39,
   "metadata": {
    "ExecuteTime": {
     "end_time": "2020-03-13T09:57:28.071781Z",
     "start_time": "2020-03-13T09:57:28.067869Z"
    }
   },
   "outputs": [],
   "source": [
    "import requests\n",
    "import pandas as pd\n",
    "import numpy as np\n",
    "import matplotlib.pyplot as plt\n",
    "import seaborn as sns\n",
    "from matplotlib.dates import DateFormatter\n",
    "import datetime\n",
    "import itertools\n",
    "import matplotlib.dates as mdates\n",
    "from scipy.optimize import curve_fit\n"
   ]
  },
  {
   "cell_type": "markdown",
   "metadata": {
    "ExecuteTime": {
     "end_time": "2020-03-12T10:00:34.512992Z",
     "start_time": "2020-03-12T10:00:34.510330Z"
    }
   },
   "source": [
    "#### Figure aesthetics"
   ]
  },
  {
   "cell_type": "code",
   "execution_count": 40,
   "metadata": {
    "ExecuteTime": {
     "end_time": "2020-03-13T09:57:29.180370Z",
     "start_time": "2020-03-13T09:57:29.176089Z"
    }
   },
   "outputs": [],
   "source": [
    "#print(plt.style.available)\n",
    "plt.style.use('seaborn-poster')\n",
    "plt.style.use('seaborn-whitegrid')"
   ]
  },
  {
   "cell_type": "markdown",
   "metadata": {
    "ExecuteTime": {
     "end_time": "2020-03-12T10:00:34.512992Z",
     "start_time": "2020-03-12T10:00:34.510330Z"
    }
   },
   "source": [
    "#### Downlad data"
   ]
  },
  {
   "cell_type": "code",
   "execution_count": 3,
   "metadata": {
    "ExecuteTime": {
     "end_time": "2020-03-12T16:14:43.885817Z",
     "start_time": "2020-03-12T16:14:43.880932Z"
    }
   },
   "outputs": [],
   "source": [
    "def get_data():\n",
    "    ##Get data from the source that is used to generate map (based on WHO official data):\n",
    "    ##https://gisanddata.maps.arcgis.com/apps/opsdashboard/index.html?fbclid=IwAR0oKIKJlc-zeNZGFBVEN0-O-58daoCDaKicXwC10cjFWgCZqTPgavseTfI#/bda7594740fd40299423467b48e9ecf6\n",
    "    url_confirmed = \"https://raw.github.com/CSSEGISandData/COVID-19/master/csse_covid_19_data/csse_covid_19_time_series/time_series_19-covid-Confirmed.csv\"\n",
    "    url_deaths = \"https://raw.github.com/CSSEGISandData/COVID-19/master/csse_covid_19_data/csse_covid_19_time_series/time_series_19-covid-Deaths.csv\"\n",
    "    url_recovered = \"https://raw.github.com/CSSEGISandData/COVID-19/master/csse_covid_19_data/csse_covid_19_time_series/time_series_19-covid-Recovered.csv\"\n",
    "    \n",
    "    for url, data_type in zip([url_confirmed, url_deaths, url_recovered], [\"confirmed\", \"deaths\", \"recovered\"]):\n",
    "    \n",
    "        r = requests.get(url)\n",
    "        filename=data_type+\".csv\"\n",
    "        f = open(filename,'wb')\n",
    "        f.write(r.content)"
   ]
  },
  {
   "cell_type": "code",
   "execution_count": 4,
   "metadata": {
    "ExecuteTime": {
     "end_time": "2020-03-12T16:14:50.289131Z",
     "start_time": "2020-03-12T16:14:46.421026Z"
    }
   },
   "outputs": [],
   "source": [
    "get_data()"
   ]
  },
  {
   "cell_type": "markdown",
   "metadata": {
    "ExecuteTime": {
     "end_time": "2020-03-12T10:00:34.512992Z",
     "start_time": "2020-03-12T10:00:34.510330Z"
    }
   },
   "source": [
    "#### Prepare dataset"
   ]
  },
  {
   "cell_type": "code",
   "execution_count": 41,
   "metadata": {
    "ExecuteTime": {
     "end_time": "2020-03-13T09:57:31.212426Z",
     "start_time": "2020-03-13T09:57:31.141863Z"
    }
   },
   "outputs": [],
   "source": [
    "## prepare dataset\n",
    "confirmed = pd.read_csv(\"confirmed.csv\")\n",
    "deaths = pd.read_csv(\"deaths.csv\")\n",
    "recovered = pd.read_csv(\"recovered.csv\")\n",
    "\n",
    "def reshape_single_dataset(data):\n",
    "    data=data.drop(columns=[\"Province/State\", \"Lat\", \"Long\"])\n",
    "    ## aggregate data for each country\n",
    "    data=data.groupby(\"Country/Region\").sum().reset_index()\n",
    "    ## reshape data\n",
    "    data.reset_index(drop=True, inplace=True)\n",
    "    data=data.set_index(\"Country/Region\")\n",
    "    #data=data.transpose().reset_index().rename(columns={'index':'Date'})\n",
    "    #data['Date'] = pd.to_datetime(data['Date'])\n",
    "    \n",
    "    return data\n",
    "\n",
    "confirmed = reshape_single_dataset(confirmed)\n",
    "deaths = reshape_single_dataset(deaths)\n",
    "recovered = reshape_single_dataset(recovered)"
   ]
  },
  {
   "cell_type": "code",
   "execution_count": 42,
   "metadata": {
    "ExecuteTime": {
     "end_time": "2020-03-13T09:57:33.065506Z",
     "start_time": "2020-03-13T09:57:33.041878Z"
    }
   },
   "outputs": [],
   "source": [
    "inactive=deaths.add(recovered)\n",
    "data=confirmed.subtract(inactive)\n",
    "data=data.transpose().reset_index().rename(columns={'index':'Date'})\n",
    "data['Date'] = pd.to_datetime(data['Date'])"
   ]
  },
  {
   "cell_type": "markdown",
   "metadata": {
    "ExecuteTime": {
     "end_time": "2020-03-12T10:00:34.512992Z",
     "start_time": "2020-03-12T10:00:34.510330Z"
    }
   },
   "source": [
    "#### List of countries in dataset"
   ]
  },
  {
   "cell_type": "code",
   "execution_count": null,
   "metadata": {},
   "outputs": [],
   "source": [
    "for el in data.columns:\n",
    "    print(el)"
   ]
  },
  {
   "cell_type": "markdown",
   "metadata": {
    "ExecuteTime": {
     "end_time": "2020-03-12T10:00:34.512992Z",
     "start_time": "2020-03-12T10:00:34.510330Z"
    }
   },
   "source": [
    "#### Get populations for countries in dataset"
   ]
  },
  {
   "cell_type": "code",
   "execution_count": 43,
   "metadata": {
    "ExecuteTime": {
     "end_time": "2020-03-13T09:57:35.603614Z",
     "start_time": "2020-03-13T09:57:35.591705Z"
    }
   },
   "outputs": [],
   "source": [
    "#data from: https://en.wikipedia.org/wiki/List_of_countries_and_dependencies_by_population \n",
    "#Was manually saved to csv. \n",
    "population_df=pd.read_csv(\"countries_population.csv\",  encoding = \"ISO-8859-1\", header=None, usecols=[1,2], names=[\"country_name\", \"population\"])\n",
    "population_df\n",
    "\n",
    "population_df['population'] = population_df['population'].apply(lambda x: str(x).replace(\",\", \"\"))\n",
    "population_df['population'] = pd.to_numeric(population_df['population'], errors=\"coerce\")"
   ]
  },
  {
   "cell_type": "code",
   "execution_count": 44,
   "metadata": {
    "ExecuteTime": {
     "end_time": "2020-03-13T09:57:37.797825Z",
     "start_time": "2020-03-13T09:57:37.635302Z"
    },
    "scrolled": false
   },
   "outputs": [
    {
     "name": "stderr",
     "output_type": "stream",
     "text": [
      "/Users/maciejj/anaconda3/envs/corona-vis/lib/python3.6/site-packages/pandas/core/strings.py:1952: UserWarning: This pattern has match groups. To actually get the groups, use str.extract.\n",
      "  return func(self, *args, **kwargs)\n"
     ]
    }
   ],
   "source": [
    "dictionary_country_names={\n",
    "\"US\":\"United States\",\n",
    "\"Congo (Kinshasa)\":\"Congo\",\n",
    "\"Cote d'Ivoire\":\"Ivory Coast\",\n",
    "\"Czechia\":\"Czech Republic\",\n",
    "\"French Guiana\":\"Guyana\",\n",
    "\"Korea, South\":\"South Korea\",\n",
    "}\n",
    "\n",
    "countries_populations = {}\n",
    "\n",
    "for data_country_name in data.columns[1:]:\n",
    "    searchfor=[data_country_name]\n",
    "    try:\n",
    "        searchfor.append(dictionary_country_names[data_country_name])\n",
    "    except:\n",
    "        pass\n",
    "    \n",
    "    check_names=0\n",
    "    if check_names==1:\n",
    "        if len(population_df[population_df[\"country_name\"].str.contains('|'.join(searchfor))]) != 1:\n",
    "            print(\" \")   \n",
    "            print(data_country_name)\n",
    "            print(population_df[population_df['country_name'].str.contains('|'.join(searchfor))] )\n",
    "            print(population_df[population_df['country_name'].str.contains('|'.join(searchfor))][\"population\"].sum() )\n",
    "            print(\" \")\n",
    "    countries_populations[data_country_name]=population_df[population_df['country_name'].str.contains('|'.join(searchfor))][\"population\"].sum()"
   ]
  },
  {
   "cell_type": "code",
   "execution_count": 45,
   "metadata": {
    "ExecuteTime": {
     "end_time": "2020-03-13T09:57:39.757555Z",
     "start_time": "2020-03-13T09:57:39.753538Z"
    }
   },
   "outputs": [],
   "source": [
    "def exponent(x, a, b, c):\n",
    "    return a * np.exp(b * (x-c))\n",
    "\n",
    "def sigmoid(x, L , k, b, x0):\n",
    "    y = L / (1 + np.exp(-k*(x-x0)))+b\n",
    "    return y"
   ]
  },
  {
   "cell_type": "markdown",
   "metadata": {
    "ExecuteTime": {
     "end_time": "2020-03-12T10:00:34.512992Z",
     "start_time": "2020-03-12T10:00:34.510330Z"
    }
   },
   "source": [
    "#### Choose countries to plot (separate by \";\" )"
   ]
  },
  {
   "cell_type": "code",
   "execution_count": 47,
   "metadata": {
    "ExecuteTime": {
     "end_time": "2020-03-13T09:57:43.551038Z",
     "start_time": "2020-03-13T09:57:43.547565Z"
    }
   },
   "outputs": [],
   "source": [
    "#countries_to_plot=\"Germany;France;Poland;Italy;Korea, South;China;United Kingdom\".split(\";\")\n",
    "countries_to_plot=\"Italy;Germany;Poland;Spain;Greece;United Kingdom\".split(\";\")"
   ]
  },
  {
   "cell_type": "markdown",
   "metadata": {
    "ExecuteTime": {
     "end_time": "2020-03-12T10:00:34.512992Z",
     "start_time": "2020-03-12T10:00:34.510330Z"
    }
   },
   "source": [
    "#### Make plot"
   ]
  },
  {
   "cell_type": "code",
   "execution_count": 52,
   "metadata": {
    "ExecuteTime": {
     "end_time": "2020-03-13T10:36:10.190340Z",
     "start_time": "2020-03-13T10:36:09.805658Z"
    },
    "scrolled": false
   },
   "outputs": [
    {
     "name": "stdout",
     "output_type": "stream",
     "text": [
      "[ 0.  1.  2.  3.  4.  5.  6.  7.  8.  9. 10. 11. 12. 13. 14. 15. 16. 17.\n",
      " 18. 19. 20. 21. 22. 23. 24. 25. 26. 27. 28. 29. 30. 31. 32. 33. 34. 35.\n",
      " 36. 37. 38. 39. 40. 41. 42. 43. 44. 45. 46. 47. 48. 49. 50.]\n",
      "[ 0.0278601   0.18060997 13.61919732]\n",
      "[5.18163445e-04 2.27508603e-01 1.24391011e+01]\n",
      "[7.68187115e-08 4.01391432e-01 1.43708412e+01]\n",
      "[3.73178149e-05 2.79359674e-01 7.78828617e+00]\n",
      "[1.83352415e-04 1.98542885e-01 6.24632708e+00]\n",
      "[3.13801590e-04 2.09252775e-01 1.28355192e+01]\n"
     ]
    },
    {
     "data": {
      "image/png": "[encoded data removed]",
      "text/plain": [
       "<Figure size 1152x648 with 1 Axes>"
      ]
     },
     "metadata": {},
     "output_type": "display_data"
    }
   ],
   "source": [
    "##extract data for each country, divide by population and multiply by the value of per_num\n",
    "dates=data[\"Date\"].values\n",
    "dates_num = mdates.date2num(dates)\n",
    "dates_start = np.min(dates_num)\n",
    "dates_num = dates_num - dates_start\n",
    "\n",
    "days_to_extrapolate=5\n",
    "dates_num_extrapolate = np.arange(0,len(dates_num)+days_to_extrapolate,1)\n",
    "\n",
    "print(dates_num)\n",
    "countries=[]\n",
    "fits=[]\n",
    "\n",
    "per_num=100000\n",
    "for country in countries_to_plot:\n",
    "    countries.append((data[country].values/countries_populations[country])*per_num)\n",
    "    #fit\n",
    "    popt, pcov = curve_fit(exponent, dates_num, ((data[country].values/countries_populations[country])*per_num), )\n",
    "    fits.append(exponent(dates_num_extrapolate, *popt))\n",
    "    \n",
    "\n",
    "    print(popt)\n",
    "\n",
    "## Create figure and plot space\n",
    "fig, ax = plt.subplots(figsize=(16, 9))\n",
    "marker = itertools.cycle(('o', 'v', '^', '<', '>', 's', 'p', 'P')) \n",
    "color = itertools.cycle(('r', 'g', 'b', 'y','c','m','k'))\n",
    "## Add x-axis and y-axis\n",
    "for country, fit, country_name in zip(countries, fits, countries_to_plot):\n",
    "    col=next(color)\n",
    "    ax.plot(dates, country, marker=next(marker), linestyle='', label=country_name, color=col)\n",
    "    ax.plot(mdates.num2date(dates_num_extrapolate+dates_start), fit, color=col)\n",
    "    \n",
    "## Set title and labels for axes\n",
    "ax.set(xlabel=\"Date\",\n",
    "       ylabel=\"Cases per \"+str(per_num),\n",
    "       title=\"Daily active cases normalized by country population\")\n",
    "## Define the date format\n",
    "date_form = DateFormatter(\"%m-%d\")\n",
    "ax.xaxis.set_major_formatter(date_form)\n",
    "\n",
    "## axes limits\n",
    "ax.set_xlim([datetime.date(2020, 2, 10), datetime.date.today() + datetime.timedelta(days=days_to_extrapolate)])# datetime.date(2020, 3, 15)])\n",
    "#ax.set_ylim([0,20])\n",
    "ax.legend()\n",
    "plt.show()"
   ]
  }
 ],
 "metadata": {
  "kernelspec": {
   "display_name": "Python 3",
   "language": "python",
   "name": "python3"
  },
  "language_info": {
   "codemirror_mode": {
    "name": "ipython",
    "version": 3
   },
   "file_extension": ".py",
   "mimetype": "text/x-python",
   "name": "python",
   "nbconvert_exporter": "python",
   "pygments_lexer": "ipython3",
   "version": "3.6.10"
  },
  "varInspector": {
   "cols": {
    "lenName": 16,
    "lenType": 16,
    "lenVar": 40
   },
   "kernels_config": {
    "python": {
     "delete_cmd_postfix": "",
     "delete_cmd_prefix": "del ",
     "library": "var_list.py",
     "varRefreshCmd": "print(var_dic_list())"
    },
    "r": {
     "delete_cmd_postfix": ") ",
     "delete_cmd_prefix": "rm(",
     "library": "var_list.r",
     "varRefreshCmd": "cat(var_dic_list()) "
    }
   },
   "types_to_exclude": [
    "module",
    "function",
    "builtin_function_or_method",
    "instance",
    "_Feature"
   ],
   "window_display": false
  }
 },
 "nbformat": 4,
 "nbformat_minor": 4
}
