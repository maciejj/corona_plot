{
 "cells": [
  {
   "cell_type": "code",
   "execution_count": 1,
   "metadata": {
    "ExecuteTime": {
     "end_time": "2020-03-12T10:55:59.541136Z",
     "start_time": "2020-03-12T10:55:57.529559Z"
    }
   },
   "outputs": [],
   "source": [
    "import requests\n",
    "import pandas as pd\n",
    "import numpy as np\n",
    "import matplotlib.pyplot as plt\n",
    "import seaborn as sns\n",
    "from matplotlib.dates import DateFormatter\n",
    "import datetime\n",
    "import itertools"
   ]
  },
  {
   "cell_type": "markdown",
   "metadata": {
    "ExecuteTime": {
     "end_time": "2020-03-12T10:00:34.512992Z",
     "start_time": "2020-03-12T10:00:34.510330Z"
    }
   },
   "source": [
    "#### Figure aesthetics"
   ]
  },
  {
   "cell_type": "code",
   "execution_count": 2,
   "metadata": {
    "ExecuteTime": {
     "end_time": "2020-03-12T10:55:59.564108Z",
     "start_time": "2020-03-12T10:55:59.559917Z"
    }
   },
   "outputs": [],
   "source": [
    "#print(plt.style.available)\n",
    "plt.style.use('seaborn-poster')\n",
    "plt.style.use('seaborn-whitegrid')"
   ]
  },
  {
   "cell_type": "markdown",
   "metadata": {
    "ExecuteTime": {
     "end_time": "2020-03-12T10:00:34.512992Z",
     "start_time": "2020-03-12T10:00:34.510330Z"
    }
   },
   "source": [
    "#### Downlad data"
   ]
  },
  {
   "cell_type": "code",
   "execution_count": 3,
   "metadata": {
    "ExecuteTime": {
     "end_time": "2020-03-12T10:56:00.341980Z",
     "start_time": "2020-03-12T10:56:00.338236Z"
    }
   },
   "outputs": [],
   "source": [
    "def get_data():\n",
    "    ##Get data from the source that is used to generate map (based on WHO official data):\n",
    "    ##https://gisanddata.maps.arcgis.com/apps/opsdashboard/index.html?fbclid=IwAR0oKIKJlc-zeNZGFBVEN0-O-58daoCDaKicXwC10cjFWgCZqTPgavseTfI#/bda7594740fd40299423467b48e9ecf6\n",
    "    url = \"https://raw.github.com/CSSEGISandData/COVID-19/master/csse_covid_19_data/csse_covid_19_time_series/time_series_19-covid-Confirmed.csv\"\n",
    "    r = requests.get(url)\n",
    "\n",
    "    filename=\"data.csv\"\n",
    "    f = open(filename,'wb')\n",
    "    f.write(r.content)"
   ]
  },
  {
   "cell_type": "code",
   "execution_count": 4,
   "metadata": {
    "ExecuteTime": {
     "end_time": "2020-03-12T10:56:01.804034Z",
     "start_time": "2020-03-12T10:56:01.167889Z"
    }
   },
   "outputs": [],
   "source": [
    "get_data()"
   ]
  },
  {
   "cell_type": "markdown",
   "metadata": {
    "ExecuteTime": {
     "end_time": "2020-03-12T10:00:34.512992Z",
     "start_time": "2020-03-12T10:00:34.510330Z"
    }
   },
   "source": [
    "#### Prepare dataset"
   ]
  },
  {
   "cell_type": "code",
   "execution_count": 5,
   "metadata": {
    "ExecuteTime": {
     "end_time": "2020-03-12T10:56:05.455445Z",
     "start_time": "2020-03-12T10:56:05.416349Z"
    }
   },
   "outputs": [],
   "source": [
    "## prepare dataset\n",
    "data = pd.read_csv(\"data.csv\")\n",
    "data=data.drop(columns=[\"Province/State\", \"Lat\", \"Long\"])\n",
    "## aggregate data for each country\n",
    "data=data.groupby(\"Country/Region\").sum().reset_index()\n",
    "## reshape data\n",
    "data.reset_index(drop=True, inplace=True)\n",
    "data=data.set_index(\"Country/Region\")\n",
    "data=data.transpose().reset_index().rename(columns={'index':'Date'})\n",
    "data['Date'] = pd.to_datetime(data['Date'])"
   ]
  },
  {
   "cell_type": "markdown",
   "metadata": {
    "ExecuteTime": {
     "end_time": "2020-03-12T10:00:34.512992Z",
     "start_time": "2020-03-12T10:00:34.510330Z"
    }
   },
   "source": [
    "#### List of countries in dataset"
   ]
  },
  {
   "cell_type": "code",
   "execution_count": 7,
   "metadata": {
    "ExecuteTime": {
     "end_time": "2020-03-12T11:05:32.949403Z",
     "start_time": "2020-03-12T11:05:32.932060Z"
    }
   },
   "outputs": [
    {
     "name": "stdout",
     "output_type": "stream",
     "text": [
      "Date\n",
      "Afghanistan\n",
      "Albania\n",
      "Algeria\n",
      "Andorra\n",
      "Argentina\n",
      "Armenia\n",
      "Australia\n",
      "Austria\n",
      "Azerbaijan\n",
      "Bahrain\n",
      "Bangladesh\n",
      "Belarus\n",
      "Belgium\n",
      "Bhutan\n",
      "Bolivia\n",
      "Bosnia and Herzegovina\n",
      "Brazil\n",
      "Brunei\n",
      "Bulgaria\n",
      "Burkina Faso\n",
      "Cambodia\n",
      "Cameroon\n",
      "Canada\n",
      "Chile\n",
      "China\n",
      "Colombia\n",
      "Congo (Kinshasa)\n",
      "Costa Rica\n",
      "Cote d'Ivoire\n",
      "Croatia\n",
      "Cruise Ship\n",
      "Cyprus\n",
      "Czechia\n",
      "Denmark\n",
      "Dominican Republic\n",
      "Ecuador\n",
      "Egypt\n",
      "Estonia\n",
      "Finland\n",
      "France\n",
      "French Guiana\n",
      "Georgia\n",
      "Germany\n",
      "Greece\n",
      "Holy See\n",
      "Honduras\n",
      "Hungary\n",
      "Iceland\n",
      "India\n",
      "Indonesia\n",
      "Iran\n",
      "Iraq\n",
      "Ireland\n",
      "Israel\n",
      "Italy\n",
      "Jamaica\n",
      "Japan\n",
      "Jordan\n",
      "Korea, South\n",
      "Kuwait\n",
      "Latvia\n",
      "Lebanon\n",
      "Liechtenstein\n",
      "Lithuania\n",
      "Luxembourg\n",
      "Malaysia\n",
      "Maldives\n",
      "Malta\n",
      "Martinique\n",
      "Mexico\n",
      "Moldova\n",
      "Monaco\n",
      "Mongolia\n",
      "Morocco\n",
      "Nepal\n",
      "Netherlands\n",
      "New Zealand\n",
      "Nigeria\n",
      "North Macedonia\n",
      "Norway\n",
      "Oman\n",
      "Pakistan\n",
      "Panama\n",
      "Paraguay\n",
      "Peru\n",
      "Philippines\n",
      "Poland\n",
      "Portugal\n",
      "Qatar\n",
      "Reunion\n",
      "Romania\n",
      "Russia\n",
      "San Marino\n",
      "Saudi Arabia\n",
      "Senegal\n",
      "Serbia\n",
      "Singapore\n",
      "Slovakia\n",
      "Slovenia\n",
      "South Africa\n",
      "Spain\n",
      "Sri Lanka\n",
      "Sweden\n",
      "Switzerland\n",
      "Taiwan*\n",
      "Thailand\n",
      "Togo\n",
      "Tunisia\n",
      "Turkey\n",
      "US\n",
      "Ukraine\n",
      "United Arab Emirates\n",
      "United Kingdom\n",
      "Vietnam\n"
     ]
    }
   ],
   "source": [
    "for el in data.columns:\n",
    "    print(el)"
   ]
  },
  {
   "cell_type": "markdown",
   "metadata": {
    "ExecuteTime": {
     "end_time": "2020-03-12T10:00:34.512992Z",
     "start_time": "2020-03-12T10:00:34.510330Z"
    }
   },
   "source": [
    "#### Choose countries to plot (separate by \",\" no spaces)"
   ]
  },
  {
   "cell_type": "code",
   "execution_count": 8,
   "metadata": {
    "ExecuteTime": {
     "end_time": "2020-03-12T11:06:02.238770Z",
     "start_time": "2020-03-12T11:06:02.235787Z"
    }
   },
   "outputs": [],
   "source": [
    "countries_to_plot=\"Germany,France,Poland,Italy,China\".split(\",\")"
   ]
  },
  {
   "cell_type": "markdown",
   "metadata": {
    "ExecuteTime": {
     "end_time": "2020-03-12T10:00:34.512992Z",
     "start_time": "2020-03-12T10:00:34.510330Z"
    }
   },
   "source": [
    "#### Make plot"
   ]
  },
  {
   "cell_type": "code",
   "execution_count": 9,
   "metadata": {
    "ExecuteTime": {
     "end_time": "2020-03-12T11:06:03.865654Z",
     "start_time": "2020-03-12T11:06:03.591115Z"
    },
    "scrolled": false
   },
   "outputs": [
    {
     "data": {
      "image/png": "[encoded data removed]",
      "text/plain": [
       "<Figure size 1152x648 with 1 Axes>"
      ]
     },
     "metadata": {},
     "output_type": "display_data"
    }
   ],
   "source": [
    "##extract data for each country\n",
    "dates=data[\"Date\"].values\n",
    "countries=[]\n",
    "for country in countries_to_plot:\n",
    "    countries.append(data[country].values)\n",
    "\n",
    "## Create figure and plot space\n",
    "fig, ax = plt.subplots(figsize=(16, 9))\n",
    "marker = itertools.cycle(('o', 'v', '^', '<', '>', 's', 'S', 'p', 'P')) \n",
    "## Add x-axis and y-axis\n",
    "for country, country_name in zip(countries, countries_to_plot):\n",
    "    ax.plot(dates, country, marker=next(marker), linestyle='', label=country_name)\n",
    "## Set title and labels for axes\n",
    "ax.set(xlabel=\"Date\",\n",
    "       ylabel=\"Cases\",\n",
    "       title=\"Daily cases\")\n",
    "## Define the date format\n",
    "date_form = DateFormatter(\"%m-%d\")\n",
    "ax.xaxis.set_major_formatter(date_form)\n",
    "\n",
    "## axes limits\n",
    "#ax.set_xlim([datetime.date(2020, 2, 10), datetime.date.today() + datetime.timedelta(days=3)])# datetime.date(2020, 3, 15)])\n",
    "#ax.set_ylim([0,100])\n",
    "ax.legend()\n",
    "plt.show()"
   ]
  }
 ],
 "metadata": {
  "kernelspec": {
   "display_name": "Python 3",
   "language": "python",
   "name": "python3"
  },
  "language_info": {
   "codemirror_mode": {
    "name": "ipython",
    "version": 3
   },
   "file_extension": ".py",
   "mimetype": "text/x-python",
   "name": "python",
   "nbconvert_exporter": "python",
   "pygments_lexer": "ipython3",
   "version": "3.6.10"
  },
  "varInspector": {
   "cols": {
    "lenName": 16,
    "lenType": 16,
    "lenVar": 40
   },
   "kernels_config": {
    "python": {
     "delete_cmd_postfix": "",
     "delete_cmd_prefix": "del ",
     "library": "var_list.py",
     "varRefreshCmd": "print(var_dic_list())"
    },
    "r": {
     "delete_cmd_postfix": ") ",
     "delete_cmd_prefix": "rm(",
     "library": "var_list.r",
     "varRefreshCmd": "cat(var_dic_list()) "
    }
   },
   "types_to_exclude": [
    "module",
    "function",
    "builtin_function_or_method",
    "instance",
    "_Feature"
   ],
   "window_display": false
  }
 },
 "nbformat": 4,
 "nbformat_minor": 4
}
