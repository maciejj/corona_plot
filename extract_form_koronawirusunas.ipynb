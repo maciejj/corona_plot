{
 "cells": [
  {
   "cell_type": "code",
   "execution_count": 26,
   "metadata": {
    "ExecuteTime": {
     "end_time": "2020-06-23T15:18:16.703927Z",
     "start_time": "2020-06-23T15:18:16.655145Z"
    },
    "scrolled": false
   },
   "outputs": [
    {
     "data": {
      "text/plain": [
       "{'Data': '14.03.2020', 'nowe': 0, 'zgony': 0, 'wyleczeni': 0}"
      ]
     },
     "execution_count": 26,
     "metadata": {},
     "output_type": "execute_result"
    }
   ],
   "source": [
    "arg=\"Data\"\n",
    "p_chorzy=\"nowe\"\n",
    "p_zgony=\"zgony\"\n",
    "p_wyleczeni=\"wyleczeni\"\n",
    "populationData = [{arg: \"12.03.2020\",p_chorzy: 0,p_zgony: 0,p_wyleczeni: 0,},{arg: \"13.03.2020\",p_chorzy: 2,p_zgony: 0,p_wyleczeni: 0,},{arg: \"14.03.2020\",p_chorzy: 0,p_zgony: 0,p_wyleczeni: 0,},{arg: \"15.03.2020\",p_chorzy: 0,p_zgony: 0,p_wyleczeni: 0,},{arg: \"16.03.2020\",p_chorzy: 1,p_zgony: 0,p_wyleczeni: 0,},{arg: \"17.03.2020\",p_chorzy: 1,p_zgony: 0,p_wyleczeni: 0,},{arg: \"18.03.2020\",p_chorzy: 1,p_zgony: 0,p_wyleczeni: 0,},{arg: \"19.03.2020\",p_chorzy: 1,p_zgony: 0,p_wyleczeni: 0,},{arg: \"20.03.2020\",p_chorzy: 0,p_zgony: 0,p_wyleczeni: 0,},{arg: \"21.03.2020\",p_chorzy: 1,p_zgony: 0,p_wyleczeni: 0,},{arg: \"22.03.2020\",p_chorzy: 2,p_zgony: 0,p_wyleczeni: 0,},{arg: \"23.03.2020\",p_chorzy: 2,p_zgony: 0,p_wyleczeni: 0,},{arg: \"24.03.2020\",p_chorzy: 12,p_zgony: 0,p_wyleczeni: 0,},{arg: \"25.03.2020\",p_chorzy: 4,p_zgony: 0,p_wyleczeni: 0,},{arg: \"26.03.2020\",p_chorzy: 3,p_zgony: 1,p_wyleczeni: 0,},{arg: \"27.03.2020\",p_chorzy: 1,p_zgony: 0,p_wyleczeni: 0,},{arg: \"28.03.2020\",p_chorzy: 17,p_zgony: 0,p_wyleczeni: 0,},{arg: \"29.03.2020\",p_chorzy: 6,p_zgony: 0,p_wyleczeni: 0,},{arg: \"30.03.2020\",p_chorzy: 2,p_zgony: 0,p_wyleczeni: 0,},{arg: \"31.03.2020\",p_chorzy: 8,p_zgony: 0,p_wyleczeni: 0,},{arg: \"01.04.2020\",p_chorzy: 12,p_zgony: 0,p_wyleczeni: 0,},{arg: \"02.04.2020\",p_chorzy: 10,p_zgony: 1,p_wyleczeni: 0,},{arg: \"03.04.2020\",p_chorzy: 0,p_zgony: 0,p_wyleczeni: 0,},{arg: \"04.04.2020\",p_chorzy: 11,p_zgony: 0,p_wyleczeni: 0,},{arg: \"05.04.2020\",p_chorzy: 6,p_zgony: 0,p_wyleczeni: 0,},{arg: \"06.04.2020\",p_chorzy: 1,p_zgony: 0,p_wyleczeni: 0,},{arg: \"07.04.2020\",p_chorzy: 26,p_zgony: 0,p_wyleczeni: 6,},{arg: \"08.04.2020\",p_chorzy: 32,p_zgony: 0,p_wyleczeni: 0,},{arg: \"09.04.2020\",p_chorzy: 9,p_zgony: 0,p_wyleczeni: 1,},{arg: \"10.04.2020\",p_chorzy: 10,p_zgony: 0,p_wyleczeni: 1,},{arg: \"11.04.2020\",p_chorzy: 7,p_zgony: 0,p_wyleczeni: 7,},{arg: \"12.04.2020\",p_chorzy: 2,p_zgony: 0,p_wyleczeni: 1,},{arg: \"13.04.2020\",p_chorzy: 10,p_zgony: 0,p_wyleczeni: 3,},{arg: \"14.04.2020\",p_chorzy: 8,p_zgony: 0,p_wyleczeni: 1,},{arg: \"15.04.2020\",p_chorzy: 6,p_zgony: 0,p_wyleczeni: 1,},{arg: \"16.04.2020\",p_chorzy: 6,p_zgony: 0,p_wyleczeni: 2,},{arg: \"17.04.2020\",p_chorzy: 7,p_zgony: 0,p_wyleczeni: 5,},{arg: \"18.04.2020\",p_chorzy: 19,p_zgony: 0,p_wyleczeni: 3,},{arg: \"19.04.2020\",p_chorzy: 17,p_zgony: 2,p_wyleczeni: 5,},{arg: \"20.04.2020\",p_chorzy: 11,p_zgony: 0,p_wyleczeni: 5,},{arg: \"21.04.2020\",p_chorzy: 2,p_zgony: 0,p_wyleczeni: 11,},{arg: \"22.04.2020\",p_chorzy: 9,p_zgony: 0,p_wyleczeni: 6,},{arg: \"23.04.2020\",p_chorzy: 16,p_zgony: 0,p_wyleczeni: 4,},{arg: \"24.04.2020\",p_chorzy: 31,p_zgony: 2,p_wyleczeni: 7,},{arg: \"25.04.2020\",p_chorzy: 8,p_zgony: 1,p_wyleczeni: 8,},{arg: \"26.04.2020\",p_chorzy: 12,p_zgony: 2,p_wyleczeni: 13,},{arg: \"27.04.2020\",p_chorzy: 15,p_zgony: 0,p_wyleczeni: 9,},{arg: \"28.04.2020\",p_chorzy: 4,p_zgony: 0,p_wyleczeni: 18,},{arg: \"29.04.2020\",p_chorzy: 6,p_zgony: 1,p_wyleczeni: 15,},{arg: \"30.04.2020\",p_chorzy: 16,p_zgony: 0,p_wyleczeni: 8,},{arg: \"01.05.2020\",p_chorzy: 5,p_zgony: 0,p_wyleczeni: 4,},{arg: \"02.05.2020\",p_chorzy: 5,p_zgony: 0,p_wyleczeni: 11,},{arg: \"03.05.2020\",p_chorzy: 8,p_zgony: 0,p_wyleczeni: 6,},{arg: \"04.05.2020\",p_chorzy: 14,p_zgony: 4,p_wyleczeni: 5,},{arg: \"05.05.2020\",p_chorzy: 13,p_zgony: 0,p_wyleczeni: 4,},{arg: \"06.05.2020\",p_chorzy: 11,p_zgony: 1,p_wyleczeni: 7,},{arg: \"07.05.2020\",p_chorzy: 8,p_zgony: 1,p_wyleczeni: 8,},{arg: \"08.05.2020\",p_chorzy: 4,p_zgony: 0,p_wyleczeni: 20,},{arg: \"09.05.2020\",p_chorzy: 5,p_zgony: 0,p_wyleczeni: 16,},{arg: \"10.05.2020\",p_chorzy: 4,p_zgony: 0,p_wyleczeni: 3,},{arg: \"11.05.2020\",p_chorzy: 1,p_zgony: 0,p_wyleczeni: 14,},{arg: \"12.05.2020\",p_chorzy: 6,p_zgony: 0,p_wyleczeni: 5,},{arg: \"13.05.2020\",p_chorzy: 6,p_zgony: 0,p_wyleczeni: 8,},{arg: \"14.05.2020\",p_chorzy: 2,p_zgony: 1,p_wyleczeni: 17,},{arg: \"15.05.2020\",p_chorzy: 3,p_zgony: 1,p_wyleczeni: 8,},{arg: \"16.05.2020\",p_chorzy: 1,p_zgony: 0,p_wyleczeni: 4,},{arg: \"17.05.2020\",p_chorzy: 2,p_zgony: 0,p_wyleczeni: 3,},{arg: \"18.05.2020\",p_chorzy: 3,p_zgony: 0,p_wyleczeni: 7,},{arg: \"19.05.2020\",p_chorzy: 5,p_zgony: 0,p_wyleczeni: 13,},{arg: \"20.05.2020\",p_chorzy: 1,p_zgony: 0,p_wyleczeni: 24,},{arg: \"21.05.2020\",p_chorzy: 12,p_zgony: 0,p_wyleczeni: 5,},{arg: \"22.05.2020\",p_chorzy: 2,p_zgony: 1,p_wyleczeni: 13,},{arg: \"23.05.2020\",p_chorzy: 4,p_zgony: 0,p_wyleczeni: 2,},{arg: \"24.05.2020\",p_chorzy: 1,p_zgony: 0,p_wyleczeni: 12,},{arg: \"25.05.2020\",p_chorzy: -1,p_zgony: 0,p_wyleczeni: 3,},{arg: \"26.05.2020\",p_chorzy: 4,p_zgony: 0,p_wyleczeni: 12,},{arg: \"27.05.2020\",p_chorzy: 2,p_zgony: 0,p_wyleczeni: 10,},{arg: \"28.05.2020\",p_chorzy: 0,p_zgony: 0,p_wyleczeni: 11,},{arg: \"29.05.2020\",p_chorzy: 4,p_zgony: 0,p_wyleczeni: 6,},{arg: \"30.05.2020\",p_chorzy: 4,p_zgony: 0,p_wyleczeni: 5,},{arg: \"31.05.2020\",p_chorzy: 1,p_zgony: 0,p_wyleczeni: 2,},{arg: \"01.06.2020\",p_chorzy: 0,p_zgony: 0,p_wyleczeni: 1,},{arg: \"02.06.2020\",p_chorzy: 5,p_zgony: 0,p_wyleczeni: 9,},{arg: \"03.06.2020\",p_chorzy: 7,p_zgony: 0,p_wyleczeni: 4,},{arg: \"04.06.2020\",p_chorzy: 2,p_zgony: 0,p_wyleczeni: 5,},{arg: \"05.06.2020\",p_chorzy: 3,p_zgony: 0,p_wyleczeni: 11,},{arg: \"06.06.2020\",p_chorzy: 0,p_zgony: 0,p_wyleczeni: 0,},{arg: \"07.06.2020\",p_chorzy: 1,p_zgony: 0,p_wyleczeni: 8,},{arg: \"08.06.2020\",p_chorzy: 0,p_zgony: 0,p_wyleczeni: 5,},{arg: \"09.06.2020\",p_chorzy: 6,p_zgony: 0,p_wyleczeni: 1,},{arg: \"10.06.2020\",p_chorzy: 5,p_zgony: 0,p_wyleczeni: 6,},{arg: \"11.06.2020\",p_chorzy: 2,p_zgony: 0,p_wyleczeni: 0,},{arg: \"12.06.2020\",p_chorzy: 2,p_zgony: 0,p_wyleczeni: 8,},{arg: \"13.06.2020\",p_chorzy: 7,p_zgony: 0,p_wyleczeni: 3,},{arg: \"14.06.2020\",p_chorzy: 5,p_zgony: 0,p_wyleczeni: 3,},{arg: \"15.06.2020\",p_chorzy: 2,p_zgony: 1,p_wyleczeni: 1,},{arg: \"16.06.2020\",p_chorzy: 5,p_zgony: 0,p_wyleczeni: 0,},{arg: \"17.06.2020\",p_chorzy: 3,p_zgony: 0,p_wyleczeni: 5,},{arg: \"18.06.2020\",p_chorzy: 0,p_zgony: 0,p_wyleczeni: 13,},{arg: \"19.06.2020\",p_chorzy: 4,p_zgony: 0,p_wyleczeni: 3,},{arg: \"20.06.2020\",p_chorzy: 1,p_zgony: 0,p_wyleczeni: 2,},{arg: \"21.06.2020\",p_chorzy: 1,p_zgony: 0,p_wyleczeni: 4,},{arg: \"22.06.2020\",p_chorzy: 0,p_zgony: 0,p_wyleczeni: 0,},\t]\n",
    "\n",
    "populationData[2]"
   ]
  }
 ],
 "metadata": {
  "kernelspec": {
   "display_name": "Python 3",
   "language": "python",
   "name": "python3"
  },
  "language_info": {
   "codemirror_mode": {
    "name": "ipython",
    "version": 3
   },
   "file_extension": ".py",
   "mimetype": "text/x-python",
   "name": "python",
   "nbconvert_exporter": "python",
   "pygments_lexer": "ipython3",
   "version": "3.6.10"
  },
  "varInspector": {
   "cols": {
    "lenName": 16,
    "lenType": 16,
    "lenVar": 40
   },
   "kernels_config": {
    "python": {
     "delete_cmd_postfix": "",
     "delete_cmd_prefix": "del ",
     "library": "var_list.py",
     "varRefreshCmd": "print(var_dic_list())"
    },
    "r": {
     "delete_cmd_postfix": ") ",
     "delete_cmd_prefix": "rm(",
     "library": "var_list.r",
     "varRefreshCmd": "cat(var_dic_list()) "
    }
   },
   "types_to_exclude": [
    "module",
    "function",
    "builtin_function_or_method",
    "instance",
    "_Feature"
   ],
   "window_display": false
  }
 },
 "nbformat": 4,
 "nbformat_minor": 4
}
