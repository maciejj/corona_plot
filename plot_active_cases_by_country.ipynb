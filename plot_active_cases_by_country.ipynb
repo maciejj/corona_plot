{
 "cells": [
  {
   "cell_type": "code",
   "execution_count": 1,
   "metadata": {
    "ExecuteTime": {
     "end_time": "2020-03-12T12:19:35.546749Z",
     "start_time": "2020-03-12T12:19:33.549775Z"
    }
   },
   "outputs": [],
   "source": [
    "import requests\n",
    "import pandas as pd\n",
    "import numpy as np\n",
    "import matplotlib.pyplot as plt\n",
    "import seaborn as sns\n",
    "from matplotlib.dates import DateFormatter\n",
    "import datetime\n",
    "import itertools"
   ]
  },
  {
   "cell_type": "markdown",
   "metadata": {
    "ExecuteTime": {
     "end_time": "2020-03-12T10:00:34.512992Z",
     "start_time": "2020-03-12T10:00:34.510330Z"
    }
   },
   "source": [
    "#### Figure aesthetics"
   ]
  },
  {
   "cell_type": "code",
   "execution_count": 2,
   "metadata": {
    "ExecuteTime": {
     "end_time": "2020-03-12T12:19:35.586165Z",
     "start_time": "2020-03-12T12:19:35.581512Z"
    }
   },
   "outputs": [],
   "source": [
    "#print(plt.style.available)\n",
    "plt.style.use('seaborn-poster')\n",
    "plt.style.use('seaborn-whitegrid')"
   ]
  },
  {
   "cell_type": "markdown",
   "metadata": {
    "ExecuteTime": {
     "end_time": "2020-03-12T10:00:34.512992Z",
     "start_time": "2020-03-12T10:00:34.510330Z"
    }
   },
   "source": [
    "#### Downlad data"
   ]
  },
  {
   "cell_type": "code",
   "execution_count": 3,
   "metadata": {
    "ExecuteTime": {
     "end_time": "2020-03-12T12:19:36.413220Z",
     "start_time": "2020-03-12T12:19:36.407923Z"
    }
   },
   "outputs": [],
   "source": [
    "def get_data():\n",
    "    ##Get data from the source that is used to generate map (based on WHO official data):\n",
    "    ##https://gisanddata.maps.arcgis.com/apps/opsdashboard/index.html?fbclid=IwAR0oKIKJlc-zeNZGFBVEN0-O-58daoCDaKicXwC10cjFWgCZqTPgavseTfI#/bda7594740fd40299423467b48e9ecf6\n",
    "    url_confirmed = \"https://raw.github.com/CSSEGISandData/COVID-19/master/csse_covid_19_data/csse_covid_19_time_series/time_series_19-covid-Confirmed.csv\"\n",
    "    url_deaths = \"https://raw.github.com/CSSEGISandData/COVID-19/master/csse_covid_19_data/csse_covid_19_time_series/time_series_19-covid-Deaths.csv\"\n",
    "    url_recovered = \"https://raw.github.com/CSSEGISandData/COVID-19/master/csse_covid_19_data/csse_covid_19_time_series/time_series_19-covid-Recovered.csv\"\n",
    "    \n",
    "    for url, data_type in zip([url_confirmed, url_deaths, url_recovered], [\"confirmed\", \"deaths\", \"recovered\"]):\n",
    "    \n",
    "        r = requests.get(url)\n",
    "        filename=data_type+\".csv\"\n",
    "        f = open(filename,'wb')\n",
    "        f.write(r.content)"
   ]
  },
  {
   "cell_type": "code",
   "execution_count": 4,
   "metadata": {
    "ExecuteTime": {
     "end_time": "2020-03-12T12:19:49.088985Z",
     "start_time": "2020-03-12T12:19:43.466051Z"
    }
   },
   "outputs": [],
   "source": [
    "get_data()"
   ]
  },
  {
   "cell_type": "markdown",
   "metadata": {
    "ExecuteTime": {
     "end_time": "2020-03-12T10:00:34.512992Z",
     "start_time": "2020-03-12T10:00:34.510330Z"
    }
   },
   "source": [
    "#### Prepare dataset"
   ]
  },
  {
   "cell_type": "code",
   "execution_count": 5,
   "metadata": {
    "ExecuteTime": {
     "end_time": "2020-03-12T12:19:49.195402Z",
     "start_time": "2020-03-12T12:19:49.140995Z"
    }
   },
   "outputs": [],
   "source": [
    "## prepare dataset\n",
    "confirmed = pd.read_csv(\"confirmed.csv\")\n",
    "deaths = pd.read_csv(\"deaths.csv\")\n",
    "recovered = pd.read_csv(\"recovered.csv\")\n",
    "\n",
    "def reshape_single_dataset(data):\n",
    "    data=data.drop(columns=[\"Province/State\", \"Lat\", \"Long\"])\n",
    "    ## aggregate data for each country\n",
    "    data=data.groupby(\"Country/Region\").sum().reset_index()\n",
    "    ## reshape data\n",
    "    data.reset_index(drop=True, inplace=True)\n",
    "    data=data.set_index(\"Country/Region\")\n",
    "    #data=data.transpose().reset_index().rename(columns={'index':'Date'})\n",
    "    #data['Date'] = pd.to_datetime(data['Date'])\n",
    "    \n",
    "    return data\n",
    "\n",
    "confirmed = reshape_single_dataset(confirmed)\n",
    "deaths = reshape_single_dataset(deaths)\n",
    "recovered = reshape_single_dataset(recovered)"
   ]
  },
  {
   "cell_type": "code",
   "execution_count": 6,
   "metadata": {
    "ExecuteTime": {
     "end_time": "2020-03-12T12:19:51.134169Z",
     "start_time": "2020-03-12T12:19:51.113095Z"
    }
   },
   "outputs": [],
   "source": [
    "inactive=deaths.add(recovered)\n",
    "data=confirmed.subtract(inactive)\n",
    "data=data.transpose().reset_index().rename(columns={'index':'Date'})\n",
    "data['Date'] = pd.to_datetime(data['Date'])"
   ]
  },
  {
   "cell_type": "markdown",
   "metadata": {
    "ExecuteTime": {
     "end_time": "2020-03-12T10:00:34.512992Z",
     "start_time": "2020-03-12T10:00:34.510330Z"
    }
   },
   "source": [
    "#### List of countries in dataset"
   ]
  },
  {
   "cell_type": "code",
   "execution_count": null,
   "metadata": {
    "ExecuteTime": {
     "end_time": "2020-03-12T14:49:52.401953Z",
     "start_time": "2020-03-12T14:49:52.382482Z"
    }
   },
   "outputs": [],
   "source": [
    "for el in data.columns:\n",
    "    print(el)"
   ]
  },
  {
   "cell_type": "markdown",
   "metadata": {
    "ExecuteTime": {
     "end_time": "2020-03-12T10:00:34.512992Z",
     "start_time": "2020-03-12T10:00:34.510330Z"
    }
   },
   "source": [
    "#### Choose countries to plot (separate by \";\" )"
   ]
  },
  {
   "cell_type": "code",
   "execution_count": 14,
   "metadata": {
    "ExecuteTime": {
     "end_time": "2020-03-12T14:50:52.590615Z",
     "start_time": "2020-03-12T14:50:52.587143Z"
    }
   },
   "outputs": [],
   "source": [
    "countries_to_plot=\"Germany;France;Poland;Italy;Korea, South;China;United Kingdom\".split(\";\")"
   ]
  },
  {
   "cell_type": "markdown",
   "metadata": {
    "ExecuteTime": {
     "end_time": "2020-03-12T10:00:34.512992Z",
     "start_time": "2020-03-12T10:00:34.510330Z"
    }
   },
   "source": [
    "#### Make plot"
   ]
  },
  {
   "cell_type": "code",
   "execution_count": 15,
   "metadata": {
    "ExecuteTime": {
     "end_time": "2020-03-12T14:50:54.060259Z",
     "start_time": "2020-03-12T14:50:53.812356Z"
    },
    "scrolled": false
   },
   "outputs": [
    {
     "data": {
      "image/png": "[encoded data removed]",
      "text/plain": [
       "<Figure size 1152x648 with 1 Axes>"
      ]
     },
     "metadata": {},
     "output_type": "display_data"
    }
   ],
   "source": [
    "##extract data for each country\n",
    "dates=data[\"Date\"].values\n",
    "countries=[]\n",
    "for country in countries_to_plot:\n",
    "    countries.append(data[country].values)\n",
    "\n",
    "## Create figure and plot space\n",
    "fig, ax = plt.subplots(figsize=(16, 9))\n",
    "marker = itertools.cycle(('o', 'v', '^', '<', '>', 's', 'p', 'P')) \n",
    "## Add x-axis and y-axis\n",
    "for country, country_name in zip(countries, countries_to_plot):\n",
    "    ax.plot(dates, country, marker=next(marker), linestyle='', label=country_name)\n",
    "## Set title and labels for axes\n",
    "ax.set(xlabel=\"Date\",\n",
    "       ylabel=\"Cases\",\n",
    "       title=\"Daily cases\")\n",
    "## Define the date format\n",
    "date_form = DateFormatter(\"%m-%d\")\n",
    "ax.xaxis.set_major_formatter(date_form)\n",
    "\n",
    "## axes limits\n",
    "#ax.set_xlim([datetime.date(2020, 2, 10), datetime.date.today() + datetime.timedelta(days=3)])# datetime.date(2020, 3, 15)])\n",
    "#ax.set_ylim([0,1000])\n",
    "ax.legend()\n",
    "plt.show()"
   ]
  }
 ],
 "metadata": {
  "kernelspec": {
   "display_name": "Python 3",
   "language": "python",
   "name": "python3"
  },
  "language_info": {
   "codemirror_mode": {
    "name": "ipython",
    "version": 3
   },
   "file_extension": ".py",
   "mimetype": "text/x-python",
   "name": "python",
   "nbconvert_exporter": "python",
   "pygments_lexer": "ipython3",
   "version": "3.6.10"
  },
  "varInspector": {
   "cols": {
    "lenName": 16,
    "lenType": 16,
    "lenVar": 40
   },
   "kernels_config": {
    "python": {
     "delete_cmd_postfix": "",
     "delete_cmd_prefix": "del ",
     "library": "var_list.py",
     "varRefreshCmd": "print(var_dic_list())"
    },
    "r": {
     "delete_cmd_postfix": ") ",
     "delete_cmd_prefix": "rm(",
     "library": "var_list.r",
     "varRefreshCmd": "cat(var_dic_list()) "
    }
   },
   "types_to_exclude": [
    "module",
    "function",
    "builtin_function_or_method",
    "instance",
    "_Feature"
   ],
   "window_display": false
  }
 },
 "nbformat": 4,
 "nbformat_minor": 4
}
